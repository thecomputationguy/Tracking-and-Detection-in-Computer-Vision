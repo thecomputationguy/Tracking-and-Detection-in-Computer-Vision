{
 "cells": [
  {
   "cell_type": "code",
   "execution_count": 35,
   "metadata": {},
   "outputs": [],
   "source": [
    "from sklearn.neighbors import KNeighborsClassifier\n",
    "import numpy as np\n",
    "import cv2\n",
    "from scipy import stats\n",
    "import matplotlib.pyplot as plt"
   ]
  },
  {
   "cell_type": "code",
   "execution_count": 41,
   "metadata": {},
   "outputs": [],
   "source": [
    "db1 = np.load(\"db_descriptors.npy\")\n",
    "db2 = np.load(\"test_descriptors.npy\")\n",
    "\n",
    "totalTestSamples = len(db2)"
   ]
  },
  {
   "cell_type": "code",
   "execution_count": 37,
   "metadata": {},
   "outputs": [],
   "source": [
    "# To create a histogram based on the angles in a database\n",
    "\n",
    "def drawHistogram(data):\n",
    "    hist = stats.cumfreq(data, numbins=18, defaultreallimits=(0,180))\n",
    "    \n",
    "    x = hist.lowerlimit + np.linspace(0, hist.binsize * hist.cumcount.size, hist.cumcount.size)\n",
    "    plt.bar(x, hist.cumcount, width=hist.binsize)\n",
    "    plt.title('Cumulative histogram')\n",
    "    plt.xlim([x.min(), x.max()])\n",
    "    plt.show()\n",
    "    \n",
    "    return hist"
   ]
  },
  {
   "cell_type": "code",
   "execution_count": 38,
   "metadata": {},
   "outputs": [],
   "source": [
    "# To print some details of the histogram\n",
    "\n",
    "def printDetails(histogram_data, no_of_samples):\n",
    "    bin_count = histogram_data.cumcount\n",
    "            \n",
    "    print(\"Images with Angular difference of 10 degrees or less are: \", (bin_count[0]/no_of_samples) * 100, \"%\")\n",
    "    print(\"Images with Angular difference of 20 degrees or less are: \", (bin_count[2]/no_of_samples) * 100, \"%\")\n",
    "    print(\"Images with Angular difference of 40 degrees or less are: \", (bin_count[4]/no_of_samples) * 100, \"%\")\n",
    "    print(\"Images with Angular difference of 180 degrees or less are: \", (bin_count[17]/no_of_samples) * 100, \"%\")    "
   ]
  },
  {
   "cell_type": "code",
   "execution_count": 39,
   "metadata": {},
   "outputs": [],
   "source": [
    "# Manual impleentation of a Brute Force matcher\n",
    "\n",
    "def NNMatcher(database1, database2):\n",
    "    angles = []\n",
    "    \n",
    "    for index1, descriptor1 in enumerate(database1):\n",
    "        d = 100000\n",
    "        testObjectType = descriptor1[1]\n",
    "        angle = 0\n",
    "        for index2, descriptor2 in enumerate(database2):\n",
    "            d1 = descriptor1[0]\n",
    "            d2 = descriptor2[0]\n",
    "                \n",
    "            dist = np.linalg.norm(d1 - d2)\n",
    "                \n",
    "            if dist < d:\n",
    "                d = dist\n",
    "                index = index2\n",
    "                dbObjectType = descriptor2[1]\n",
    "                    \n",
    "        if testObjectType == dbObjectType:\n",
    "            angle = 57.26 * np.arccos((np.dot(d1, d2) / (np.linalg.norm(d1) * np.linalg.norm(d2))))\n",
    "            angles.append(angle)\n",
    "                \n",
    "        #print(\"Match for descriptor: \", index1, \" of type: \", testObjectType, \" is: \", index, \n",
    "         #     \" of class: \", dbObjectType, \" and angle is: \", angle)\n",
    "    \n",
    "    histogram = drawHistogram(angles)\n",
    "    printDetails(histogram, totalTestSamples)"
   ]
  },
  {
   "cell_type": "code",
   "execution_count": 42,
   "metadata": {},
   "outputs": [
    {
     "data": {
      "image/png": "[encoded data removed]",
      "text/plain": [
       "<Figure size 432x288 with 1 Axes>"
      ]
     },
     "metadata": {},
     "output_type": "display_data"
    },
    {
     "name": "stdout",
     "output_type": "stream",
     "text": [
      "Images with Angular difference of 10 degrees or less are:  0.141242937853 %\n",
      "Images with Angular difference of 20 degrees or less are:  33.7853107345 %\n",
      "Images with Angular difference of 40 degrees or less are:  56.3276836158 %\n",
      "Images with Angular difference of 180 degrees or less are:  96.9774011299 %\n"
     ]
    }
   ],
   "source": [
    "NNMatcher(db2, db1)"
   ]
  },
  {
   "cell_type": "code",
   "execution_count": null,
   "metadata": {},
   "outputs": [],
   "source": []
  }
 ],
 "metadata": {
  "kernelspec": {
   "display_name": "Python 3",
   "language": "python",
   "name": "python3"
  },
  "language_info": {
   "codemirror_mode": {
    "name": "ipython",
    "version": 3
   },
   "file_extension": ".py",
   "mimetype": "text/x-python",
   "name": "python",
   "nbconvert_exporter": "python",
   "pygments_lexer": "ipython3",
   "version": "3.6.8"
  }
 },
 "nbformat": 4,
 "nbformat_minor": 2
}
